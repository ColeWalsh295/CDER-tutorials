{
 "cells": [
  {
   "cell_type": "code",
   "execution_count": 93,
   "metadata": {},
   "outputs": [],
   "source": [
    "import numpy as np\n",
    "from sklearn.linear_model import LinearRegression\n",
    "from sklearn.datasets import make_spd_matrix\n",
    "from sklearn.metrics import mean_squared_error\n",
    "from sklearn.model_selection import train_test_split"
   ]
  },
  {
   "cell_type": "markdown",
   "metadata": {},
   "source": [
    "# Simulate data"
   ]
  },
  {
   "cell_type": "code",
   "execution_count": 167,
   "metadata": {},
   "outputs": [],
   "source": [
    "n_vars = 100\n",
    "frac_vars_zero = 0.5\n",
    "n_data = 100\n",
    "true_error_sd = 2\n",
    "np.random.seed(11)\n",
    "\n",
    "means = np.random.randint(low = 0, high = 1, size = n_vars)\n",
    "covs = make_spd_matrix(n_vars)\n",
    "X = np.random.multivariate_normal(mean = means, cov = covs, size = n_data)\n",
    "effects = np.random.randint(low = -10, high = 10, size = n_vars)\n",
    "effects[np.random.choice(range(0, n_vars), size = int(frac_vars_zero * n_vars), replace = False)] = 0\n",
    "y = np.dot(X, effects) + np.random.normal(loc = 0, scale = true_error_sd, size = n_data)\n",
    "X_train, X_test, y_train, y_test = train_test_split(X, y, test_size = 0.5)"
   ]
  },
  {
   "cell_type": "markdown",
   "metadata": {},
   "source": [
    "# Fit model"
   ]
  },
  {
   "cell_type": "markdown",
   "metadata": {},
   "source": [
    "## Classical statistics"
   ]
  },
  {
   "cell_type": "markdown",
   "metadata": {},
   "source": [
    "Fitting data with this paradigm was difficult because typically we would pick variables based on prior expectations. Because the data is simulated, there are no prior expectations, so I'll fit several models including 20%, 50%, 80%, and 100% of the variables in the true model, selected at random."
   ]
  },
  {
   "cell_type": "code",
   "execution_count": 168,
   "metadata": {},
   "outputs": [
    {
     "name": "stdout",
     "output_type": "stream",
     "text": [
      "3.924260166782357\n",
      "792.5894632385847\n",
      "21.317453085370015\n",
      "16041.107611736525\n",
      "3.060481224936134\n",
      "412.3122170649394\n",
      "2.332707860300151\n",
      "308.8171528720509\n"
     ]
    }
   ],
   "source": [
    "np.random.seed(11)\n",
    "\n",
    "vars_ = np.random.choice(range(0, n_vars), size = int(0.2 * n_vars), replace = False)\n",
    "reg20 = LinearRegression().fit(X_train[:, vars_], y_train)\n",
    "print(np.mean(abs(reg20.coef_ - effects[vars_])))\n",
    "print(mean_squared_error(y_test, reg20.predict(X_test[:, vars_])))\n",
    "\n",
    "vars_ = np.random.choice(range(0, n_vars), size = int(0.5 * n_vars), replace = False)\n",
    "reg50 = LinearRegression().fit(X_train[:, vars_], y_train)\n",
    "print(np.mean(abs(reg50.coef_ - effects[vars_])))\n",
    "print(mean_squared_error(y_test, reg50.predict(X_test[:, vars_])))\n",
    "\n",
    "vars_ = np.random.choice(range(0, n_vars), size = int(0.8 * n_vars), replace = False)\n",
    "reg80 = LinearRegression().fit(X_train[:, vars_], y_train)\n",
    "print(np.mean(abs(reg80.coef_ - effects[vars_])))\n",
    "print(mean_squared_error(y_test, reg80.predict(X_test[:, vars_])))\n",
    "\n",
    "vars_ = np.random.choice(range(0, n_vars), size = int(1 * n_vars), replace = False)\n",
    "reg100 = LinearRegression().fit(X_train[:, vars_], y_train)\n",
    "print(np.mean(abs(reg100.coef_ - effects[vars_])))\n",
    "print(mean_squared_error(y_test, reg100.predict(X_test[:, vars_])))"
   ]
  },
  {
   "cell_type": "markdown",
   "metadata": {},
   "source": [
    "## Using best model from ML framework"
   ]
  },
  {
   "cell_type": "code",
   "execution_count": null,
   "metadata": {},
   "outputs": [],
   "source": []
  }
 ],
 "metadata": {
  "kernelspec": {
   "display_name": "Python 3",
   "language": "python",
   "name": "python3"
  },
  "language_info": {
   "codemirror_mode": {
    "name": "ipython",
    "version": 3
   },
   "file_extension": ".py",
   "mimetype": "text/x-python",
   "name": "python",
   "nbconvert_exporter": "python",
   "pygments_lexer": "ipython3",
   "version": "3.6.10"
  }
 },
 "nbformat": 4,
 "nbformat_minor": 4
}
